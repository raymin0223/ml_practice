{
 "cells": [
  {
   "cell_type": "code",
   "execution_count": 4,
   "metadata": {},
   "outputs": [],
   "source": [
    "# Basic setting\n",
    "import pickle\n",
    "import numpy as np\n",
    "\n",
    "import pandas as pd\n",
    "import matplotlib.pyplot as plt\n",
    "%matplotlib inline"
   ]
  },
  {
   "cell_type": "markdown",
   "metadata": {},
   "source": [
    "# 차원 축소 알고리즘 UMAP"
   ]
  },
  {
   "cell_type": "markdown",
   "metadata": {},
   "source": [
    "## [P.1] digits 숫자 데이터 학습하기\n",
    "\n",
    "digits 숫자 데이터를 불러온 뒤, 모든 피처를 사용해서 3개의 클래스에 대한 분류 모델을 학습해주세요.    \n",
    "이 때, 분류 모델은 지금까지 배웠던 모델 중에서 자유롭게 선택해주세요."
   ]
  },
  {
   "cell_type": "code",
   "execution_count": 12,
   "metadata": {},
   "outputs": [
    {
     "name": "stdout",
     "output_type": "stream",
     "text": [
      "(1797, 64) (1797,)\n"
     ]
    }
   ],
   "source": [
    "from sklearn.datasets import load_digits\n",
    "\n",
    "X, y = load_digits(return_X_y=True)\n",
    "print(X.shape, y.shape)"
   ]
  },
  {
   "cell_type": "code",
   "execution_count": 13,
   "metadata": {},
   "outputs": [],
   "source": [
    "from sklearn.model_selection import train_test_split\n",
    "\n",
    "X_train, X_test, y_train, y_test = train_test_split(X, y, test_size=0.2)"
   ]
  },
  {
   "cell_type": "code",
   "execution_count": 14,
   "metadata": {},
   "outputs": [
    {
     "name": "stdout",
     "output_type": "stream",
     "text": [
      "[13:47:20] WARNING: ../src/learner.cc:1115: Starting in XGBoost 1.3.0, the default evaluation metric used with the objective 'multi:softprob' was changed from 'merror' to 'mlogloss'. Explicitly set eval_metric if you'd like to restore the old behavior.\n"
     ]
    },
    {
     "data": {
      "text/plain": [
       "0.8416666666666667"
      ]
     },
     "execution_count": 14,
     "metadata": {},
     "output_type": "execute_result"
    }
   ],
   "source": [
    "from xgboost import XGBClassifier\n",
    "from sklearn.metrics import accuracy_score\n",
    "\n",
    "xg_clf = XGBClassifier(n_estimators=3, learning_rate=0.1, max_depth=3)\n",
    "xg_clf.fit(X_train, y_train)\n",
    "\n",
    "y_pred = xg_clf.predict(X_test)\n",
    "\n",
    "accuracy_score(y_test, y_pred)"
   ]
  },
  {
   "cell_type": "markdown",
   "metadata": {},
   "source": [
    "## [P.2] UMAP 차원 축소\n",
    "\n",
    "[`UMAP`]()으로 차원을 축소한 뒤, problem 1에서 사용했던 모델로 학습해주세요.    "
   ]
  },
  {
   "cell_type": "code",
   "execution_count": 1,
   "metadata": {},
   "outputs": [
    {
     "name": "stdout",
     "output_type": "stream",
     "text": [
      "Requirement already satisfied: umap-learn in /home/sangmin/anaconda3/lib/python3.7/site-packages (0.4.6)\n",
      "Requirement already satisfied: scipy>=1.3.1 in /home/sangmin/anaconda3/lib/python3.7/site-packages (from umap-learn) (1.6.1)\n",
      "Requirement already satisfied: numpy>=1.17 in /home/sangmin/anaconda3/lib/python3.7/site-packages (from umap-learn) (1.19.4)\n",
      "Requirement already satisfied: scikit-learn>=0.20 in /home/sangmin/anaconda3/lib/python3.7/site-packages (from umap-learn) (0.23.2)\n",
      "Requirement already satisfied: numba!=0.47,>=0.46 in /home/sangmin/anaconda3/lib/python3.7/site-packages (from umap-learn) (0.51.2)\n",
      "Requirement already satisfied: llvmlite<0.35,>=0.34.0.dev0 in /home/sangmin/anaconda3/lib/python3.7/site-packages (from numba!=0.47,>=0.46->umap-learn) (0.34.0)\n",
      "Requirement already satisfied: setuptools in /home/sangmin/anaconda3/lib/python3.7/site-packages (from numba!=0.47,>=0.46->umap-learn) (51.0.0.post20201207)\n",
      "Requirement already satisfied: joblib>=0.11 in /home/sangmin/anaconda3/lib/python3.7/site-packages (from scikit-learn>=0.20->umap-learn) (1.0.0)\n",
      "Requirement already satisfied: threadpoolctl>=2.0.0 in /home/sangmin/anaconda3/lib/python3.7/site-packages (from scikit-learn>=0.20->umap-learn) (2.1.0)\n"
     ]
    }
   ],
   "source": [
    "!pip install umap-learn"
   ]
  },
  {
   "cell_type": "code",
   "execution_count": 18,
   "metadata": {},
   "outputs": [
    {
     "name": "stdout",
     "output_type": "stream",
     "text": [
      "(1797, 5)\n"
     ]
    }
   ],
   "source": [
    "import umap\n",
    "\n",
    "X_umap = umap.UMAP(n_components=5).fit_transform(X)\n",
    "print(X_umap.shape)\n",
    "\n",
    "X_train, X_test, y_train, y_test = train_test_split(X_umap, y, test_size=0.2)"
   ]
  },
  {
   "cell_type": "code",
   "execution_count": 19,
   "metadata": {},
   "outputs": [
    {
     "name": "stdout",
     "output_type": "stream",
     "text": [
      "[13:49:50] WARNING: ../src/learner.cc:1115: Starting in XGBoost 1.3.0, the default evaluation metric used with the objective 'multi:softprob' was changed from 'merror' to 'mlogloss'. Explicitly set eval_metric if you'd like to restore the old behavior.\n"
     ]
    },
    {
     "name": "stderr",
     "output_type": "stream",
     "text": [
      "/home/sangmin/anaconda3/lib/python3.7/site-packages/xgboost/sklearn.py:1224: UserWarning: The use of label encoder in XGBClassifier is deprecated and will be removed in a future release. To remove this warning, do the following: 1) Pass option use_label_encoder=False when constructing XGBClassifier object; and 2) Encode your labels (y) as integers starting with 0, i.e. 0, 1, 2, ..., [num_class - 1].\n",
      "  warnings.warn(label_encoder_deprecation_msg, UserWarning)\n"
     ]
    },
    {
     "data": {
      "text/plain": [
       "0.9805555555555555"
      ]
     },
     "execution_count": 19,
     "metadata": {},
     "output_type": "execute_result"
    }
   ],
   "source": [
    "from xgboost import XGBClassifier\n",
    "from sklearn.metrics import accuracy_score\n",
    "\n",
    "xg_clf = XGBClassifier(n_estimators=3, learning_rate=0.1, max_depth=3)\n",
    "xg_clf.fit(X_train, y_train)\n",
    "\n",
    "y_pred = xg_clf.predict(X_test)\n",
    "\n",
    "accuracy_score(y_test, y_pred)"
   ]
  },
  {
   "cell_type": "code",
   "execution_count": null,
   "metadata": {},
   "outputs": [],
   "source": []
  }
 ],
 "metadata": {
  "kernelspec": {
   "display_name": "Python 3",
   "language": "python",
   "name": "python3"
  },
  "language_info": {
   "codemirror_mode": {
    "name": "ipython",
    "version": 3
   },
   "file_extension": ".py",
   "mimetype": "text/x-python",
   "name": "python",
   "nbconvert_exporter": "python",
   "pygments_lexer": "ipython3",
   "version": "3.7.9"
  }
 },
 "nbformat": 4,
 "nbformat_minor": 4
}
