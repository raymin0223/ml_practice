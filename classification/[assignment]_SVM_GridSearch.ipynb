{
 "cells": [
  {
   "cell_type": "code",
   "execution_count": null,
   "metadata": {},
   "outputs": [],
   "source": [
    "# Basic setting\n",
    "import os\n",
    "import pickle\n",
    "import numpy as np\n",
    "# to make this notebook's output stable across runs\n",
    "np.random.seed(42)\n",
    "\n",
    "import pandas as pd\n",
    "import matplotlib as mpl\n",
    "import matplotlib.pyplot as plt\n",
    "%matplotlib inline"
   ]
  },
  {
   "cell_type": "markdown",
   "metadata": {},
   "source": [
    "# [과제] 최적의 SVM 모델 찾기\n",
    "\n",
    "---\n",
    "\n",
    "## 본 과제의 목표는 다음과 같음\n",
    "\n",
    "1. `rbf` 커널 함수를 사용한 SVM 모델을 정의할 수 있음\n",
    "2. 학습과 평가 데이터셋을 나눌 수 있으며, 평가 데이터셋에 대한 분류 성능을 평가할 수 있음\n",
    "3. `sklearn`에서 제공하는 하이퍼파라미터 서치 툴을 사용할 수 있음\n",
    "4. SVM 모델 구현에 사용되는 하이퍼파라미터의 역할을 이해하고 분석할 수 있음"
   ]
  },
  {
   "cell_type": "markdown",
   "metadata": {},
   "source": [
    "## [P.1] SVM 모델을 다양한 하이퍼파라미터로 학습하기\n",
    "\n",
    "`rbf` 커널 함수를 사용한 SVM 모델을 정의할 때, 다양한 하이퍼파라미터 값을 설정해서 학습하며 성능 비교하기    \n",
    "참고로, 이전 practice 파일에서처럼 학습 데이터셋이 아닌, 사이킷런 함수를 통해 만든 평가 데이터셋에 대해서 성능 평가하기"
   ]
  },
  {
   "cell_type": "code",
   "execution_count": null,
   "metadata": {},
   "outputs": [],
   "source": [
    "# Make train and test dataset\n",
    "from ??? import ???  # divide train and test\n",
    "from ??? import ???  # moons dataset\n",
    "\n",
    "Xm, ym = ???\n",
    "X_train, X_test, y_train, y_test = ???"
   ]
  },
  {
   "cell_type": "code",
   "execution_count": null,
   "metadata": {},
   "outputs": [],
   "source": [
    "def plot_dataset(X, y):\n",
    "    plt.plot(X[:, 0][y==0], X[:, 1][y==0], \"s\")\n",
    "    plt.plot(X[:, 0][y==1], X[:, 1][y==1], \"^\")\n",
    "    \n",
    "    plt.xlabel(\"X1\")\n",
    "    plt.ylabel(\"X2\")\n",
    "    \n",
    "    \n",
    "plot_dataset(X_train, y_train)"
   ]
  },
  {
   "cell_type": "code",
   "execution_count": null,
   "metadata": {},
   "outputs": [],
   "source": [
    "# define model with pipeline\n",
    "from ??? import ???  # pipeline\n",
    "from ??? import ???   # scaler\n",
    "from ??? import ???   # svc"
   ]
  },
  {
   "cell_type": "code",
   "execution_count": null,
   "metadata": {},
   "outputs": [],
   "source": [
    "# 평가 데이터셋에 대한 성능 확인을 위해서 sklearn.metrics 안의 함수를 사용해주세요\n",
    "from ??? import ???"
   ]
  },
  {
   "cell_type": "code",
   "execution_count": null,
   "metadata": {},
   "outputs": [],
   "source": [
    "params = [(gamma, C), ...]  # any combination you want!\n",
    "\n",
    "svm_clfs = []\n",
    "for g, C in params:\n",
    "    svm_clf = ???\n",
    "    svm_clf.???\n",
    "    \n",
    "    svm_clfs.append(svm_clf)"
   ]
  },
  {
   "cell_type": "code",
   "execution_count": null,
   "metadata": {},
   "outputs": [],
   "source": [
    "def plot_predictions(clf):\n",
    "    x0 = np.linspace(-3, 3, 100)\n",
    "    x1 = np.linspace(-3, 3, 100)\n",
    "    x0, x1 = np.meshgrid(x0, x1)\n",
    "    X = np.c_[x0.ravel(), x1.ravel()]\n",
    "    \n",
    "    y_pred = clf.predict(X)\n",
    "    y_pred = y_pred.reshape(x0.shape)\n",
    "    plt.contourf(x0, x1, y_pred, alpha=0.1)"
   ]
  },
  {
   "cell_type": "code",
   "execution_count": null,
   "metadata": {},
   "outputs": [],
   "source": [
    "for i, svm_clf in enumerate(svm_clfs):\n",
    "    plt.figure(figsize=(6, 4))\n",
    "    \n",
    "    plot_dataset(X_train, y_train)\n",
    "    \n",
    "    plot_predictions(svm_clf)\n",
    "    \n",
    "    y_pred = svm_clf.???\n",
    "    acc = ???\n",
    "    \n",
    "    print('[%s] Acc: %s' % (params[i], acc))"
   ]
  },
  {
   "cell_type": "markdown",
   "metadata": {},
   "source": [
    "## [P.2] GridSearchCV를 이용해 최적의 하이퍼파라미터 찾기\n",
    "\n",
    "직접 하나부터 열까지 구현하는 것을 방지하기 위해 사이킷런에서는 유용한 툴을 제공해주고 있음    \n",
    "`sklearn`의 [`GridSearchCV`](https://scikit-learn.org/stable/modules/generated/sklearn.model_selection.GridSearchCV.html) 클래스를 이용해서 교차 검증을 구현해보기     \n",
    "`make_moons` 데이터셋에 가장 적합한 하이퍼파라미터를 찾고, 평가 데이터에 대한 최고 성능 얻기"
   ]
  },
  {
   "cell_type": "code",
   "execution_count": null,
   "metadata": {},
   "outputs": [],
   "source": [
    "# import gridsearchcv\n",
    "from ??? import ???\n",
    "\n",
    "############################################################################\n",
    "##### 찾고싶은 하이퍼파라미터와 후보군들을 dictionary 형태로 만들어서 학습하시면 됩니다. #####\n",
    "\n",
    "\n",
    "\n",
    "\n",
    "\n",
    "############################################################################"
   ]
  },
  {
   "cell_type": "code",
   "execution_count": null,
   "metadata": {},
   "outputs": [],
   "source": [
    "# get results of cross-validation\n",
    "grid_search_cv.???"
   ]
  },
  {
   "cell_type": "code",
   "execution_count": null,
   "metadata": {},
   "outputs": [],
   "source": [
    "############################################################################\n",
    "############### 적절한 함수를 찾아 y_test에 대한 성능을 얻으시면 됩니다. ###############\n",
    "\n",
    "\n",
    "\n",
    "\n",
    "\n",
    "############################################################################"
   ]
  },
  {
   "cell_type": "markdown",
   "metadata": {},
   "source": [
    "## [P.3] 하이퍼파라미터 서치 결과 분석\n",
    "\n",
    "P.2에서 구현했던 내용을 바탕으로, 아래 질문에 대한 답변 작성\n",
    "\n",
    "#### Q.1) 어떤 하이퍼파라미터와 값들을 후보군으로 설정했는지 서술\n",
    "---\n",
    "\n",
    "#### Q.2) 해당 하이퍼파라미터의 역할을 분석하고, 왜 해당 결과값이 가장 좋은 성능을 보여줄 수 있었는지에 대해 자유롭게 작성\n",
    "---"
   ]
  }
 ],
 "metadata": {
  "kernelspec": {
   "display_name": "Python 3",
   "language": "python",
   "name": "python3"
  },
  "language_info": {
   "codemirror_mode": {
    "name": "ipython",
    "version": 3
   },
   "file_extension": ".py",
   "mimetype": "text/x-python",
   "name": "python",
   "nbconvert_exporter": "python",
   "pygments_lexer": "ipython3",
   "version": "3.7.9"
  },
  "nav_menu": {},
  "toc": {
   "navigate_menu": true,
   "number_sections": true,
   "sideBar": true,
   "threshold": 6,
   "toc_cell": false,
   "toc_section_display": "block",
   "toc_window_display": false
  }
 },
 "nbformat": 4,
 "nbformat_minor": 1
}
