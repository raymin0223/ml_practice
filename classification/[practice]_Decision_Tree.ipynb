{
 "cells": [
  {
   "cell_type": "code",
   "execution_count": null,
   "metadata": {},
   "outputs": [],
   "source": [
    "# Basic setting\n",
    "import os\n",
    "import pickle\n",
    "import numpy as np\n",
    "\n",
    "import pandas as pd\n",
    "import matplotlib.pyplot as plt\n",
    "%matplotlib inline"
   ]
  },
  {
   "cell_type": "markdown",
   "metadata": {},
   "source": [
    "# Decision Tree 분류 모델"
   ]
  },
  {
   "cell_type": "markdown",
   "metadata": {},
   "source": [
    "## [P.1] 결정 트리 학습\n",
    "\n",
    "iris 붓꽃 데이터를 결정 트리로 학습해볼 것임     \n",
    "사이킷런에서 제공하는 [DecisionTreeClassifier](https://scikit-learn.org/stable/modules/generated/sklearn.tree.DecisionTreeClassifier.html)를 이용해 모델 선언"
   ]
  },
  {
   "cell_type": "code",
   "execution_count": null,
   "metadata": {},
   "outputs": [],
   "source": [
    "from ??? import ???\n",
    "\n",
    "iris = ???\n",
    "\n",
    "X = iris.data[:, 2:] # petal length and width\n",
    "y = iris.target"
   ]
  },
  {
   "cell_type": "code",
   "execution_count": null,
   "metadata": {},
   "outputs": [],
   "source": [
    "def plot_dataset(X, y, show=True):\n",
    "    ??? # label 0\n",
    "    ??? # label 1\n",
    "    ??? # label 2\n",
    "    \n",
    "    if show:\n",
    "        plt.show()"
   ]
  },
  {
   "cell_type": "code",
   "execution_count": null,
   "metadata": {},
   "outputs": [],
   "source": [
    "plot_dataset(X, y)"
   ]
  },
  {
   "cell_type": "code",
   "execution_count": null,
   "metadata": {},
   "outputs": [],
   "source": [
    "from ??? import ???\n",
    "\n",
    "tree_clf = ???\n",
    "tree_clf.???"
   ]
  },
  {
   "cell_type": "markdown",
   "metadata": {},
   "source": [
    "결정 트리의 학습, 즉 노드를 늘려가는 작업을 멈춰주는 argument는 다음과 같음\n",
    "\n",
    "* __max_depth__: depth의 최대 크기\n",
    "* __min_samples_split__: 한 노드에 존재해야되는 최소의 샘플 수로, 이 수보다 적게 존재하면 결정 트리의 split을 멈춤\n",
    "* __min_samples_leaf__: leaf 노드가 되기 위해서 필요한 최소의 샘플 수\n",
    "* __max_leaf_nodes__: leaft 노드의 최대수 설정"
   ]
  },
  {
   "cell_type": "code",
   "execution_count": null,
   "metadata": {},
   "outputs": [],
   "source": [
    "def plot_decision_boundary(clf, axes=None):\n",
    "    if axes is None:\n",
    "        x0 = np.linspace(0, 8, 100)\n",
    "        x1 = np.linspace(0, 3, 100)\n",
    "    else:\n",
    "        x0 = np.linspace(axes[0][0], axes[0][1], 100)\n",
    "        x1 = np.linspace(axes[1][0], axes[1][1], 100)\n",
    "        \n",
    "    \n",
    "    x0, x1 = ???(x0, x1)\n",
    "    X_new = ???\n",
    "    \n",
    "    y_pred = clf.???(X_new).reshape(x0.shape)\n",
    "    \n",
    "    plt.contourf(x0, x1, y_pred, alpha=0.25)\n",
    "    plt.show()"
   ]
  },
  {
   "cell_type": "code",
   "execution_count": null,
   "metadata": {
    "scrolled": false
   },
   "outputs": [],
   "source": [
    "plt.figure(figsize=(6, 4))\n",
    "\n",
    "plot_dataset(X, y, False)\n",
    "plot_decision_boundary(tree_clf)\n",
    "\n",
    "plt.show()"
   ]
  },
  {
   "cell_type": "markdown",
   "metadata": {},
   "source": [
    "depth는 결정 트리의 split 수를 결정해주는 요소임    \n",
    "따라서 `max_depth=3`으로 설정했을 때, 위의 그림처럼 세개의 선이 융합되어 결정 경계가 생성됨"
   ]
  },
  {
   "cell_type": "markdown",
   "metadata": {},
   "source": [
    "## [P.2] 결정 트리 정확도 계산\n",
    "\n",
    "데이터에 대한 성능은 [`accuracy_score`](https://scikit-learn.org/stable/modules/generated/sklearn.metrics.accuracy_score.html)를 통해 계산이 가능함     \n",
    "`y_pred`의 argument는 결정 트리 클래스의 `predict` 함수를 통해 예측 확률이 가장 높은 클래스를 얻으면 됨     "
   ]
  },
  {
   "cell_type": "code",
   "execution_count": null,
   "metadata": {},
   "outputs": [],
   "source": [
    "from sklearn.model_selection import ???\n",
    "\n",
    "X_train, X_test, y_train, y_test = ???(X, y, test_size=0.2)"
   ]
  },
  {
   "cell_type": "code",
   "execution_count": null,
   "metadata": {},
   "outputs": [],
   "source": [
    "tree_clf = ???\n",
    "tree_clf.???\n",
    "\n",
    "y_pred = tree_clf.???"
   ]
  },
  {
   "cell_type": "code",
   "execution_count": null,
   "metadata": {},
   "outputs": [],
   "source": [
    "y_pred"
   ]
  },
  {
   "cell_type": "code",
   "execution_count": null,
   "metadata": {},
   "outputs": [],
   "source": [
    "from ??? import ???\n",
    "\n",
    "???"
   ]
  },
  {
   "cell_type": "markdown",
   "metadata": {},
   "source": [
    "각 샘플에 대한 클래스 확률을 보려면, `DecisionTreeClassifier` 클래스의 `predict_proba` 메서드 사용하면 됨"
   ]
  },
  {
   "cell_type": "code",
   "execution_count": null,
   "metadata": {},
   "outputs": [],
   "source": [
    "index = 0\n",
    "tree_clf.???(X_test[index].reshape(-1, 2))"
   ]
  },
  {
   "cell_type": "code",
   "execution_count": null,
   "metadata": {},
   "outputs": [],
   "source": [
    "plt.figure(figsize=(6, 4))\n",
    "\n",
    "plot_dataset(X_test, y_test, False)\n",
    "plot_decision_boundary(tree_clf)\n",
    "\n",
    "plt.show()"
   ]
  },
  {
   "cell_type": "markdown",
   "metadata": {},
   "source": [
    "## [P.3] 결정 트리의 하이퍼파라미터 조절\n",
    "\n",
    "`max_depth` argument를 조절해가며, 결정 트리가 데이터셋을 어떻게 학습하는지 분석"
   ]
  },
  {
   "cell_type": "code",
   "execution_count": null,
   "metadata": {},
   "outputs": [],
   "source": [
    "from sklearn.datasets import ???\n",
    "X, y = ???(n_samples=???, noise=???, random_state=53)"
   ]
  },
  {
   "cell_type": "code",
   "execution_count": null,
   "metadata": {},
   "outputs": [],
   "source": [
    "from sklearn.model_selection import ???\n",
    "\n",
    "X_train, X_test, y_train, y_test = ???(X, y, test_size=0.2)"
   ]
  },
  {
   "cell_type": "code",
   "execution_count": null,
   "metadata": {},
   "outputs": [],
   "source": [
    "tree_clf = ???\n",
    "tree_clf.???\n",
    "\n",
    "y_pred = tree_clf.???\n",
    "???"
   ]
  },
  {
   "cell_type": "code",
   "execution_count": null,
   "metadata": {},
   "outputs": [],
   "source": [
    "plt.figure(figsize=(6, 4))\n",
    "\n",
    "plot_dataset(X_train, y_train, False)\n",
    "plot_decision_boundary(tree_clf, axes=[[-2.5,4], [-2, 2.5]])\n",
    "\n",
    "plt.show()"
   ]
  },
  {
   "cell_type": "markdown",
   "metadata": {},
   "source": [
    "split의 수가 너무 많으면, 학습 데이터셋에 오버피팅 되는 경향이 생기고 결국 평가 데이터셋에 대한 성능은 하락함     \n",
    "하지만, iris나 moons는 간단한 데이터이기 때문에 오히려 학습 데이터셋에 오버피팅 됐을 때 더 좋은 성능을 보여주기도 함"
   ]
  }
 ],
 "metadata": {
  "kernelspec": {
   "display_name": "Python 3",
   "language": "python",
   "name": "python3"
  },
  "language_info": {
   "codemirror_mode": {
    "name": "ipython",
    "version": 3
   },
   "file_extension": ".py",
   "mimetype": "text/x-python",
   "name": "python",
   "nbconvert_exporter": "python",
   "pygments_lexer": "ipython3",
   "version": "3.7.9"
  },
  "nav_menu": {
   "height": "309px",
   "width": "468px"
  },
  "toc": {
   "navigate_menu": true,
   "number_sections": true,
   "sideBar": true,
   "threshold": 6,
   "toc_cell": false,
   "toc_section_display": "block",
   "toc_window_display": false
  }
 },
 "nbformat": 4,
 "nbformat_minor": 1
}
