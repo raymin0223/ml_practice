{
 "cells": [
  {
   "cell_type": "code",
   "execution_count": null,
   "metadata": {},
   "outputs": [],
   "source": [
    "# Basic setting\n",
    "import pickle\n",
    "import numpy as np\n",
    "\n",
    "import pandas as pd\n",
    "import matplotlib.pyplot as plt\n",
    "%matplotlib inline"
   ]
  },
  {
   "cell_type": "markdown",
   "metadata": {},
   "source": [
    "# 클러스터링 알고리즘"
   ]
  },
  {
   "cell_type": "markdown",
   "metadata": {
    "collapsed": true,
    "nbpresent": {
     "id": "b292081a-becc-4c76-b7db-0643bcc3a7db"
    }
   },
   "source": [
    "## [P.1] K-Means 알고리즘\n",
    "\n",
    "라벨이 없는 데이터셋에 대한 클러스터링 알고리즘들을 구현해볼 것입니다.    \n",
    "데이터셋은 `make_blobs`를 통해 인위적인 데이터셋을 사용해보겠습니다.    \n",
    "먼저, [`K-Means`](https://scikit-learn.org/stable/modules/generated/sklearn.cluster.KMeans.html) 알고리즘으로 학습하고 평가해봅시다."
   ]
  },
  {
   "cell_type": "code",
   "execution_count": null,
   "metadata": {
    "nbpresent": {
     "id": "f0e44f6c-b6bf-4977-a44b-bf18c3e801e6"
    },
    "scrolled": true
   },
   "outputs": [],
   "source": [
    "from sklearn.datasets import ???\n",
    "\n",
    "num_classes = ???\n",
    "\n",
    "X, y = ???\n",
    "\n",
    "print(X.shape, y.shape)"
   ]
  },
  {
   "cell_type": "code",
   "execution_count": null,
   "metadata": {
    "nbpresent": {
     "id": "16b9a559-9294-4cac-8921-7ac0bc46e34f"
    }
   },
   "outputs": [],
   "source": [
    "#################################\n",
    "# 데이터 시각화\n",
    "\n",
    "\n",
    "\n",
    "\n",
    "#################################"
   ]
  },
  {
   "cell_type": "code",
   "execution_count": null,
   "metadata": {
    "nbpresent": {
     "id": "db1a84f5-233c-45c1-b15e-989548255461"
    },
    "scrolled": true
   },
   "outputs": [],
   "source": [
    "# K-Means\n",
    "from ??? import ???\n",
    "\n",
    "kmeans = ???\n",
    "kmeans.???(X) # train"
   ]
  },
  {
   "cell_type": "code",
   "execution_count": null,
   "metadata": {
    "nbpresent": {
     "id": "676709d6-de25-41ee-a3f0-dfdb5be5b617"
    }
   },
   "outputs": [],
   "source": [
    "# get centroid\n",
    "print('Cetroid points: ')\n",
    "print(kmeans.???)"
   ]
  },
  {
   "cell_type": "code",
   "execution_count": null,
   "metadata": {
    "nbpresent": {
     "id": "f2d84569-10f0-4aca-a6e0-96624785bd88"
    },
    "scrolled": false
   },
   "outputs": [],
   "source": [
    "#################################\n",
    "# 예측 결과 시각화\n",
    "\n",
    "\n",
    "\n",
    "\n",
    "#################################\n",
    "\n",
    "\n",
    "\n",
    "#################################\n",
    "# Centroid 시각화\n",
    "\n",
    "\n",
    "\n",
    "\n",
    "#################################"
   ]
  },
  {
   "cell_type": "markdown",
   "metadata": {},
   "source": [
    "#### 새로운 데이터셋 포인트가 들어오면, `predict` 메써드를 통해 클러스터를 배정해줄 수 있습니다."
   ]
  },
  {
   "cell_type": "code",
   "execution_count": null,
   "metadata": {
    "nbpresent": {
     "id": "3a82e1e8-0875-4bac-b399-1f5a468c5306"
    }
   },
   "outputs": [],
   "source": [
    "X_sample = np.array([[3, 0]])\n",
    "y_pred = kmeans.???(X_sample)\n",
    "\n",
    "print(y_pred)"
   ]
  },
  {
   "cell_type": "code",
   "execution_count": null,
   "metadata": {
    "nbpresent": {
     "id": "2be162d7-364f-4e7d-be4a-86018e786a5d"
    }
   },
   "outputs": [],
   "source": [
    "# method 1\n",
    "from ??? import ???\n",
    "\n",
    "print(???(X_sample, kmeans.cluster_centers_))\n",
    "\n",
    "# method 2\n",
    "print(kmeans.???(X_sample))"
   ]
  },
  {
   "cell_type": "markdown",
   "metadata": {},
   "source": [
    "#### `init` argument 값을 변경하면, K-Means++의 최신 알고리즘을 사용할 수 있습니다."
   ]
  },
  {
   "cell_type": "code",
   "execution_count": null,
   "metadata": {
    "nbpresent": {
     "id": "4c72a76e-5dd6-4634-8671-b3f1ea0d8410"
    },
    "scrolled": true
   },
   "outputs": [],
   "source": [
    "kmeans_plus2 = KMeans(n_clusters=num_classes, \n",
    "                      n_init=num_classes, \n",
    "                      init=???)\n",
    "kmeans_plus2.???(X)"
   ]
  },
  {
   "cell_type": "code",
   "execution_count": null,
   "metadata": {},
   "outputs": [],
   "source": [
    "#################################\n",
    "# 시각화\n",
    "\n",
    "\n",
    "\n",
    "\n",
    "#################################"
   ]
  },
  {
   "cell_type": "markdown",
   "metadata": {
    "nbpresent": {
     "id": "3a4feabc-8d61-4b8a-9fea-6f877c8d0b71"
    }
   },
   "source": [
    "#### 실루엣 분석은 다음과 같이 진행하면 됩니다. 실루엣 점수를 통해 가장 적절한 클러스터 개수를 찾아보세요."
   ]
  },
  {
   "cell_type": "code",
   "execution_count": null,
   "metadata": {},
   "outputs": [],
   "source": [
    "from sklearn.metrics import ???\n",
    "\n",
    "num_cluster = [2, 3, 4, 5]\n",
    "\n",
    "for nc in num_cluster:\n",
    "    kmeans = KMeans(n_clusters=nc, n_init=nc, init='random')\n",
    "    y_pred = kmeans.???(X)\n",
    "    \n",
    "    score = ???(X, y_pred)\n",
    "    \n",
    "    print('With %s cluster number, K-means score : %.4f' % (nc, score))"
   ]
  },
  {
   "cell_type": "markdown",
   "metadata": {
    "nbpresent": {
     "id": "ab8a33f3-4dee-46e8-9abd-7d2fc56e63d8"
    }
   },
   "source": [
    "## [P.2] DBSCAN 알고리즘\n",
    "\n",
    "### Q.1 K-Means 알고리즘의 문제점은 무엇이었나요?\n",
    "\n",
    "위의 문제점을 해결할 수 있는 [`DBSCAN`](https://scikit-learn.org/stable/modules/generated/sklearn.cluster.DBSCAN.html)을 구현해보고, 실제로 잘 동작하는지 살펴봅시다."
   ]
  },
  {
   "cell_type": "code",
   "execution_count": null,
   "metadata": {},
   "outputs": [],
   "source": [
    "#################################\n",
    "# make moons 데이터셋 불러오기\n",
    "\n",
    "\n",
    "\n",
    "\n",
    "#################################"
   ]
  },
  {
   "cell_type": "code",
   "execution_count": null,
   "metadata": {},
   "outputs": [],
   "source": [
    "def plot_dataset(X, y):\n",
    "    plt.plot(X[:, 0][y==0], X[:, 1][y==0], \"s\")\n",
    "    plt.plot(X[:, 0][y==1], X[:, 1][y==1], \"^\")\n",
    "    \n",
    "plot_dataset(X, y)"
   ]
  },
  {
   "cell_type": "code",
   "execution_count": null,
   "metadata": {},
   "outputs": [],
   "source": [
    "#################################\n",
    "# K-Means 학습 후 시각화\n",
    "\n",
    "\n",
    "\n",
    "\n",
    "#################################"
   ]
  },
  {
   "cell_type": "code",
   "execution_count": null,
   "metadata": {
    "scrolled": true
   },
   "outputs": [],
   "source": [
    "#################################\n",
    "# DBSCAN 학습 후 시각화\n",
    "\n",
    "\n",
    "\n",
    "\n",
    "#################################"
   ]
  },
  {
   "cell_type": "code",
   "execution_count": null,
   "metadata": {},
   "outputs": [],
   "source": []
  }
 ],
 "metadata": {
  "anaconda-cloud": {},
  "kernelspec": {
   "display_name": "Python 3",
   "language": "python",
   "name": "python3"
  },
  "language_info": {
   "codemirror_mode": {
    "name": "ipython",
    "version": 3
   },
   "file_extension": ".py",
   "mimetype": "text/x-python",
   "name": "python",
   "nbconvert_exporter": "python",
   "pygments_lexer": "ipython3",
   "version": "3.7.9"
  }
 },
 "nbformat": 4,
 "nbformat_minor": 1
}
