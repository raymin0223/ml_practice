{
 "cells": [
  {
   "cell_type": "code",
   "execution_count": null,
   "metadata": {},
   "outputs": [],
   "source": [
    "# Basic setting\n",
    "import pickle\n",
    "import numpy as np\n",
    "\n",
    "import pandas as pd\n",
    "import matplotlib.pyplot as plt\n",
    "%matplotlib inline"
   ]
  },
  {
   "cell_type": "markdown",
   "metadata": {},
   "source": [
    "# 클러스터링 알고리즘"
   ]
  },
  {
   "cell_type": "markdown",
   "metadata": {
    "collapsed": true,
    "nbpresent": {
     "id": "b292081a-becc-4c76-b7db-0643bcc3a7db"
    }
   },
   "source": [
    "## [P.1] MeanShift 알고리즘\n",
    "\n",
    "연습때와 마찬가지로 `make_blobs` 데이터셋을 통해 [`MeanShift`](https://scikit-learn.org/stable/modules/generated/sklearn.cluster.MeanShift.html) 알고리즘으로 학습하고 시각화해주세요."
   ]
  },
  {
   "cell_type": "code",
   "execution_count": null,
   "metadata": {
    "nbpresent": {
     "id": "f0e44f6c-b6bf-4977-a44b-bf18c3e801e6"
    },
    "scrolled": true
   },
   "outputs": [],
   "source": [
    "#################################\n",
    "# blobs dataset\n",
    "\n",
    "\n",
    "\n",
    "#################################"
   ]
  },
  {
   "cell_type": "code",
   "execution_count": null,
   "metadata": {
    "nbpresent": {
     "id": "16b9a559-9294-4cac-8921-7ac0bc46e34f"
    },
    "scrolled": true
   },
   "outputs": [],
   "source": [
    "#################################\n",
    "# 시각화\n",
    "\n",
    "\n",
    "\n",
    "#################################"
   ]
  },
  {
   "cell_type": "markdown",
   "metadata": {},
   "source": [
    "### Q.1 MeanShift 알고리즘의 하이퍼파라미터는 무엇이 있으며, `sklearn` 패키지에서 어떤 argument로 구현되어 있나요?"
   ]
  },
  {
   "cell_type": "code",
   "execution_count": null,
   "metadata": {
    "nbpresent": {
     "id": "db1a84f5-233c-45c1-b15e-989548255461"
    },
    "scrolled": true
   },
   "outputs": [],
   "source": [
    "#################################\n",
    "# meanshift 구현 후 학습\n",
    "\n",
    "\n",
    "\n",
    "\n",
    "#################################"
   ]
  },
  {
   "cell_type": "code",
   "execution_count": null,
   "metadata": {
    "nbpresent": {
     "id": "f2d84569-10f0-4aca-a6e0-96624785bd88"
    },
    "scrolled": false
   },
   "outputs": [],
   "source": [
    "#################################\n",
    "# meanshift 예측 결과 시각화\n",
    "\n",
    "\n",
    "\n",
    "\n",
    "#################################"
   ]
  },
  {
   "cell_type": "markdown",
   "metadata": {},
   "source": [
    "### Q.2 위의 하이퍼파라미터를 조절하며, 값을 키웠을 때와 줄였을 때 결과가 어떻게 변화는지 정리해주세요."
   ]
  },
  {
   "cell_type": "markdown",
   "metadata": {},
   "source": [
    "## [P.2] GMM 알고리즘\n",
    "\n",
    "이번에는 [`GMM`](https://scikit-learn.org/stable/modules/generated/sklearn.mixture.GaussianMixture.html) 모델을 활용해 데이터를 학습해봅시다."
   ]
  },
  {
   "cell_type": "code",
   "execution_count": null,
   "metadata": {
    "nbpresent": {
     "id": "4c72a76e-5dd6-4634-8671-b3f1ea0d8410"
    },
    "scrolled": true
   },
   "outputs": [],
   "source": [
    "#################################\n",
    "# gmm 모델 구현 후 학습\n",
    "\n",
    "\n",
    "\n",
    "#################################"
   ]
  },
  {
   "cell_type": "code",
   "execution_count": null,
   "metadata": {},
   "outputs": [],
   "source": [
    "#################################\n",
    "# gmm 예측 결과 시각화\n",
    "\n",
    "\n",
    "\n",
    "\n",
    "#################################"
   ]
  },
  {
   "cell_type": "markdown",
   "metadata": {},
   "source": [
    "### Q.3 GMM 알고리즘에 대해 설명하고, 다른 알고리즘들과의 비교를 통해 장점과 단점을 정리해주세요."
   ]
  },
  {
   "cell_type": "code",
   "execution_count": null,
   "metadata": {},
   "outputs": [],
   "source": []
  }
 ],
 "metadata": {
  "anaconda-cloud": {},
  "kernelspec": {
   "display_name": "Python 3",
   "language": "python",
   "name": "python3"
  },
  "language_info": {
   "codemirror_mode": {
    "name": "ipython",
    "version": 3
   },
   "file_extension": ".py",
   "mimetype": "text/x-python",
   "name": "python",
   "nbconvert_exporter": "python",
   "pygments_lexer": "ipython3",
   "version": "3.7.9"
  }
 },
 "nbformat": 4,
 "nbformat_minor": 1
}
