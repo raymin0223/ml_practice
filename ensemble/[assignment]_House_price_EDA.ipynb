{
 "cells": [
  {
   "cell_type": "markdown",
   "metadata": {},
   "source": [
    "# EDA란?\n",
    "- **Understand the problem**\n",
    "    - 각 variable의 의미와 문제에서의 중요도를 살펴보자\n",
    "\n",
    "- **Univariable study**\n",
    "    - dependent variable Y에 대해서 알아보자\n",
    "\n",
    "- **Multivariate study**\n",
    "    - dependent variable과 independent variable 사이의 관계를 알아보자\n",
    "\n",
    "- **Basic cleaning**\n",
    "    - missing data, outliers 그리고 categorical variables을 다뤄서 dataset을 정리해보자\n",
    "\n",
    "- **Test assumptions**\n",
    "    - data가 대부분의 multivariate technique들이 필요로하는 가정들에 부합하는지 확인해보자"
   ]
  },
  {
   "cell_type": "markdown",
   "metadata": {},
   "source": [
    "# House Price Dataset\n",
    "\n",
    "Kaggle 대회 중 Regression의 대표 문제로, 집값을 예측하는 문제입니다.    \n",
    "먼저, House Price 데이터셋에 대한 EDA를 통해 후에 머신 러닝 모델에 사용할 피처와 데이터 샘플을 결정해봅시다.\n",
    "\n",
    "하기 링크를 참고하시면서 여러가지 데이터 분석을 진행해주세요.    \n",
    "[링크]https://www.kaggle.com/pmarcelino/comprehensive-data-exploration-with-python"
   ]
  },
  {
   "cell_type": "code",
   "execution_count": null,
   "metadata": {
    "scrolled": true
   },
   "outputs": [],
   "source": [
    "import os\n",
    "import pandas as pd\n",
    "import matplotlib.pyplot as plt\n",
    "%matplotlib inline\n",
    "import seaborn as sns\n",
    "import numpy as np\n",
    "from scipy.stats import norm\n",
    "from sklearn.preprocessing import StandardScaler\n",
    "from scipy import stats\n",
    "import warnings\n",
    "warnings.filterwarnings('ignore')"
   ]
  },
  {
   "cell_type": "code",
   "execution_count": null,
   "metadata": {},
   "outputs": [],
   "source": [
    "#bring in the six packs\n",
    "df_train = pd.read_csv('./data/house_price.csv')"
   ]
  },
  {
   "cell_type": "code",
   "execution_count": null,
   "metadata": {},
   "outputs": [],
   "source": [
    "#check the decoration\n",
    "df_train.columns"
   ]
  },
  {
   "cell_type": "code",
   "execution_count": null,
   "metadata": {},
   "outputs": [],
   "source": [
    "###############################\n",
    "\n",
    "\n",
    "\n",
    "\n",
    "\n",
    "\n",
    "\n",
    "###############################"
   ]
  },
  {
   "cell_type": "markdown",
   "metadata": {},
   "source": [
    "## 데이터 전처리\n",
    "\n",
    "위의 커널을 참고해 모델 학습에 필요한 피처를 고르는 과정을 진행해보세요.    \n",
    "예를 들어, 어떤 피처가 학습에 도움이 되고, 필요없는 피처들, 손실 데이터, 또는 아웃라이어를 어떻게 제거하는지를 집중해보시면 좋을 것 같습니다.\n",
    "\n",
    "전처리 과정이 다 끝났으면, 데이터를 저장하고 `[assignment]_House_price_model_training.ipynb` 파일에서 불러와 모델 학습을 이어서 진행해주세요."
   ]
  },
  {
   "cell_type": "code",
   "execution_count": null,
   "metadata": {},
   "outputs": [],
   "source": [
    "X.to_csv('./data/preprocessed_X.csv', index=False)\n",
    "y.to_csv('./data/preprocessed_y.csv', index=False)"
   ]
  },
  {
   "cell_type": "markdown",
   "metadata": {},
   "source": [
    " "
   ]
  }
 ],
 "metadata": {
  "kernelspec": {
   "display_name": "Python 3",
   "language": "python",
   "name": "python3"
  },
  "language_info": {
   "codemirror_mode": {
    "name": "ipython",
    "version": 3
   },
   "file_extension": ".py",
   "mimetype": "text/x-python",
   "name": "python",
   "nbconvert_exporter": "python",
   "pygments_lexer": "ipython3",
   "version": "3.7.9"
  }
 },
 "nbformat": 4,
 "nbformat_minor": 2
}
