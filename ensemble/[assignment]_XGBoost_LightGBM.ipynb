{
 "cells": [
  {
   "cell_type": "code",
   "execution_count": null,
   "metadata": {},
   "outputs": [],
   "source": [
    "# Basic setting\n",
    "import pickle\n",
    "import numpy as np\n",
    "\n",
    "import pandas as pd\n",
    "import matplotlib.pyplot as plt\n",
    "%matplotlib inline"
   ]
  },
  {
   "cell_type": "markdown",
   "metadata": {},
   "source": [
    "# Ensemble 모델"
   ]
  },
  {
   "cell_type": "markdown",
   "metadata": {},
   "source": [
    "## [P.1] Gradient Boosting 모델\n",
    "\n",
    "Gradient Boosting 알고리즘을 [`GradientBoostingClassifier`](https://scikit-learn.org/stable/modules/generated/sklearn.ensemble.GradientBoostingClassifier.html)를 통해 구현하고, `make_moons` 데이터셋에 대한 학습 결과 정리하기"
   ]
  },
  {
   "cell_type": "code",
   "execution_count": null,
   "metadata": {},
   "outputs": [],
   "source": [
    "from ??? import ???\n",
    "\n",
    "# make_moons 또는 Iris 데이터셋에 대한 학습해보기\n",
    "#######################\n",
    "\n",
    "\n",
    "\n",
    "\n",
    "\n",
    "#######################"
   ]
  },
  {
   "cell_type": "code",
   "execution_count": null,
   "metadata": {},
   "outputs": [],
   "source": [
    "def plot_dataset(X, y, show=True):\n",
    "    plt.plot(X[:, 0][y==0], X[:, 1][y==0], \"s\")\n",
    "    plt.plot(X[:, 0][y==1], X[:, 1][y==1], \"^\")\n",
    "    plt.plot(X[:, 0][y==2], X[:, 1][y==2], \"o\")\n",
    "    \n",
    "    if show:\n",
    "        plt.show()"
   ]
  },
  {
   "cell_type": "code",
   "execution_count": null,
   "metadata": {},
   "outputs": [],
   "source": [
    "def plot_decision_boundary(clf, axes=None):\n",
    "    if axes is None:\n",
    "        x0 = np.linspace(-3, 4, 100)\n",
    "        x1 = np.linspace(-3, 4, 100)\n",
    "    else:\n",
    "        x0 = np.linspace(axes[0][0], axes[0][1], 100)\n",
    "        x1 = np.linspace(axes[1][0], axes[1][1], 100)\n",
    "        \n",
    "    \n",
    "    x0, x1 = np.meshgrid(x0, x1)\n",
    "    X_new = np.c_[x0.ravel(), x1.ravel()]\n",
    "    \n",
    "    y_pred = clf.predict(X_new).reshape(x0.shape)\n",
    "    \n",
    "    plt.contourf(x0, x1, y_pred, alpha=0.25)\n",
    "    plt.show()"
   ]
  },
  {
   "cell_type": "code",
   "execution_count": null,
   "metadata": {},
   "outputs": [],
   "source": [
    "# visualization\n",
    "######################\n",
    "\n",
    "\n",
    "\n",
    "######################"
   ]
  },
  {
   "cell_type": "markdown",
   "metadata": {},
   "source": [
    "## [P.2] XGBoost 모델\n",
    "\n",
    "XGBoost는 사이킷런 기반이긴 하지만, 패키지 자체를 따로 제공하기 때문에 클래스를 불러오는 곳이 다름    \n",
    "[`XGBClassifier`](https://xgboost.readthedocs.io/en/latest/python/python_api.html#module-xgboost.sklearn)를 이용해보고 argument를 다양하게 바꿔가며 성능 비교해보기"
   ]
  },
  {
   "cell_type": "code",
   "execution_count": null,
   "metadata": {},
   "outputs": [],
   "source": [
    "!pip install xgboost"
   ]
  },
  {
   "cell_type": "code",
   "execution_count": null,
   "metadata": {},
   "outputs": [],
   "source": [
    "from ??? import ???\n",
    "\n",
    "# make_moons 또는 Iris 데이터셋에 대한 학습해보기\n",
    "#######################\n",
    "\n",
    "\n",
    "\n",
    "\n",
    "\n",
    "#######################"
   ]
  },
  {
   "cell_type": "code",
   "execution_count": null,
   "metadata": {
    "scrolled": true
   },
   "outputs": [],
   "source": [
    "# visualization\n",
    "######################\n",
    "\n",
    "\n",
    "\n",
    "######################"
   ]
  },
  {
   "cell_type": "markdown",
   "metadata": {},
   "source": [
    "Bagging tree의 장점은 각 피처들의 중요도를 계산해, 모델에 대한 설명가능성을 키워줄 수 있음    \n",
    "이는 `feature_importances_` 메써드를 활용하면 쉽게 알 수 있음"
   ]
  },
  {
   "cell_type": "markdown",
   "metadata": {},
   "source": [
    "## [P.3] LightGBM 모델\n",
    "\n",
    "이번에는 또다른 Boosting 알고리즘인 [`LGBMClassifier`](https://lightgbm.readthedocs.io/en/latest/pythonapi/lightgbm.LGBMClassifier.html)를 활용해서 모델을 구현해보기    "
   ]
  },
  {
   "cell_type": "code",
   "execution_count": null,
   "metadata": {},
   "outputs": [],
   "source": [
    "!pip install lightgbm"
   ]
  },
  {
   "cell_type": "code",
   "execution_count": null,
   "metadata": {},
   "outputs": [],
   "source": [
    "from ??? import ???\n",
    "\n",
    "# make_moons 또는 Iris 데이터셋에 대한 학습해보기\n",
    "#######################\n",
    "\n",
    "\n",
    "\n",
    "\n",
    "\n",
    "#######################"
   ]
  },
  {
   "cell_type": "code",
   "execution_count": null,
   "metadata": {},
   "outputs": [],
   "source": [
    "# visualization\n",
    "######################\n",
    "\n",
    "\n",
    "\n",
    "######################"
   ]
  }
 ],
 "metadata": {
  "kernelspec": {
   "display_name": "Python 3",
   "language": "python",
   "name": "python3"
  },
  "language_info": {
   "codemirror_mode": {
    "name": "ipython",
    "version": 3
   },
   "file_extension": ".py",
   "mimetype": "text/x-python",
   "name": "python",
   "nbconvert_exporter": "python",
   "pygments_lexer": "ipython3",
   "version": "3.7.9"
  },
  "nav_menu": {
   "height": "252px",
   "width": "333px"
  },
  "toc": {
   "navigate_menu": true,
   "number_sections": true,
   "sideBar": true,
   "threshold": 6,
   "toc_cell": false,
   "toc_section_display": "block",
   "toc_window_display": false
  }
 },
 "nbformat": 4,
 "nbformat_minor": 1
}
