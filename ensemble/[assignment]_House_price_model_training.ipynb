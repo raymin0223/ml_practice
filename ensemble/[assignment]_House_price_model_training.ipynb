{
 "cells": [
  {
   "cell_type": "code",
   "execution_count": null,
   "metadata": {},
   "outputs": [],
   "source": [
    "import os\n",
    "import pandas as pd\n",
    "import numpy as np"
   ]
  },
  {
   "cell_type": "markdown",
   "metadata": {},
   "source": [
    "# ML 모델 학습\n",
    "\n",
    "지금까지 배웠던 모델들을 활용해서 이전의 `EDA` 파일에서 만들었던 정제된 데이터셋으로 학습 및 평가를 진행하면 됩니다.     \n",
    "집값 예측 데이터셋은 회귀 문제이므로, 회귀 모델들을 사용하면 됩니다.     \n",
    "\n",
    "Ensemble 자료에서 배웠던 모델들은 각각 `Classifier`에서 `Regressor`로 이름을 바꾸면, 회귀 모델이 되는 점 참고해주세요."
   ]
  },
  {
   "cell_type": "code",
   "execution_count": null,
   "metadata": {},
   "outputs": [],
   "source": [
    "X = pd.read_csv('./data/preprocessed_X.csv')\n",
    "y = pd.read_csv('./data/preprocessed_y.csv')\n",
    "\n",
    "print(\"X dataset size:\", X.shape)\n",
    "print(\"y dataset size:\", y.shape)"
   ]
  },
  {
   "cell_type": "code",
   "execution_count": null,
   "metadata": {},
   "outputs": [],
   "source": [
    "################################\n",
    "# train과 test 데이터셋으로 나누기\n",
    "\n",
    "\n",
    "\n",
    "################################"
   ]
  },
  {
   "cell_type": "markdown",
   "metadata": {},
   "source": [
    "원하는 모델 구현해서 평가 데이터셋에 대한 성능을 찍고 분석해보세요.    \n",
    "이 때, 회귀 모델에 맞는 평가 지표를 `sklearn.metrics`에서 찾아서 사용해보세요."
   ]
  },
  {
   "cell_type": "code",
   "execution_count": null,
   "metadata": {},
   "outputs": [],
   "source": [
    "################################\n",
    "# 원하는 모델들로 학습하고 평가해보기\n",
    "\n",
    "\n",
    "\n",
    "\n",
    "################################"
   ]
  },
  {
   "cell_type": "markdown",
   "metadata": {},
   "source": [
    "### Q1. 어떤 데이터 전처리 과정을 진행했는지 정리해주세요."
   ]
  },
  {
   "cell_type": "markdown",
   "metadata": {},
   "source": [
    "### Q2. 데이터 전처리릍 통해 데이터의 샘플 개수와 피처 차원은 어떻게 바뀌었나요?"
   ]
  },
  {
   "cell_type": "markdown",
   "metadata": {},
   "source": [
    "### Q3. 어떤 모델을 사용해서 데이터를 학습했으며, 모델의 장점과 단점을 설명해주세요."
   ]
  }
 ],
 "metadata": {
  "kernelspec": {
   "display_name": "Python 3",
   "language": "python",
   "name": "python3"
  },
  "language_info": {
   "codemirror_mode": {
    "name": "ipython",
    "version": 3
   },
   "file_extension": ".py",
   "mimetype": "text/x-python",
   "name": "python",
   "nbconvert_exporter": "python",
   "pygments_lexer": "ipython3",
   "version": "3.7.9"
  }
 },
 "nbformat": 4,
 "nbformat_minor": 2
}
