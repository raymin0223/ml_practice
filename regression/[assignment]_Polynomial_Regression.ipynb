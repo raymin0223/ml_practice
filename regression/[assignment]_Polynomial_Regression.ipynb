{
 "cells": [
  {
   "cell_type": "code",
   "execution_count": null,
   "metadata": {},
   "outputs": [],
   "source": [
    "# Basic setting\n",
    "import pickle\n",
    "import numpy as np\n",
    "import pandas as pd\n",
    "import matplotlib.pyplot as plt\n",
    "%matplotlib inline"
   ]
  },
  {
   "cell_type": "markdown",
   "metadata": {},
   "source": [
    "# [과제] 주어진 데이터에 대해서 다항 회귀 모델 학습하기\n",
    "\n",
    "---\n",
    "\n",
    "## 본 과제의 목표는 다음과 같음\n",
    "\n",
    "1. 데이터를 불러오고, 학습과 평가 데이터로 나눌 수 있음\n",
    "2. `numpy`를 이용해, 간단한 다항 회귀 모델을 구현하고 경사 하강법을 통해 학습할 수 있음\n",
    "3. `sklearn` 라이브러리의 클래스를 활용해 다항 회귀 모델을 정의하고 학습할 수 있음"
   ]
  },
  {
   "cell_type": "code",
   "execution_count": null,
   "metadata": {},
   "outputs": [],
   "source": [
    "# Load the dataset\n",
    "with open('./data/polynomial_regression.pickle', 'rb') as f:\n",
    "    X, y = pickle.load(f)"
   ]
  },
  {
   "cell_type": "code",
   "execution_count": null,
   "metadata": {},
   "outputs": [],
   "source": [
    "# Check the dataset distribution    \n",
    "plt.scatter(X, y)\n",
    "plt.show()"
   ]
  },
  {
   "cell_type": "markdown",
   "metadata": {},
   "source": [
    "## [P.1] 학습 데이터와 평가 데이터로 나누기\n",
    "---\n",
    "\n",
    "- 이 때, 평가 데이터는 전체의 20%로 설정\n",
    "- 학습과 평가 데이터셋을 각각 시각화하여 보여주기"
   ]
  },
  {
   "cell_type": "code",
   "execution_count": null,
   "metadata": {},
   "outputs": [],
   "source": [
    "# Use sklearn library\n",
    "from sklearn.model_selection import ???\n",
    "\n",
    "X_train, X_test, y_train, y_test = ???"
   ]
  },
  {
   "cell_type": "code",
   "execution_count": null,
   "metadata": {},
   "outputs": [],
   "source": [
    "# Visualize train dataset  \n",
    "plt.scatter(???, ???)\n",
    "plt.show()"
   ]
  },
  {
   "cell_type": "code",
   "execution_count": null,
   "metadata": {},
   "outputs": [],
   "source": [
    "# Visualize train dataset  \n",
    "plt.scatter(???, ???)\n",
    "plt.show()"
   ]
  },
  {
   "cell_type": "markdown",
   "metadata": {},
   "source": [
    "## [P.2] `numpy` 라이브러리를 통해, 최적의 다항 회귀 모델 학습\n",
    "\n",
    "---\n",
    "\n",
    "- 데이터의 분포를 살펴보고, 가장 적합해 보이는 차수의 다항 회귀 모델을 정의\n",
    "- 각 파라미터의 최적값을 경사 하강법을 통해 찾기\n",
    "- 이 때의 학습 손실값과 평가 데이터에 대한 손실값을 계산"
   ]
  },
  {
   "cell_type": "code",
   "execution_count": null,
   "metadata": {},
   "outputs": [],
   "source": [
    "def gd_numpy(X, y, epochs, lr):\n",
    "    # Model weights and bias parameters\n",
    "    ???\n",
    "\n",
    "    # Perform Gradient Descent\n",
    "    \n",
    "    ???\n",
    "    \n",
    "    return ???"
   ]
  },
  {
   "cell_type": "code",
   "execution_count": null,
   "metadata": {
    "scrolled": true
   },
   "outputs": [],
   "source": [
    "# Training setting\n",
    "epochs = ???\n",
    "learning_rate = ???\n",
    "\n",
    "??? = gd_numpy(X_train, y_train, epochs, learning_rate)"
   ]
  },
  {
   "cell_type": "code",
   "execution_count": null,
   "metadata": {},
   "outputs": [],
   "source": [
    "# Visualize the trained linear regression model\n",
    "# scatter the original data\n",
    "plt.scatter(X_train, y_train)   \n",
    "\n",
    "# plot prediction results\n",
    "y_pred = ???\n",
    "\n",
    "plt.scatter(X_train, y_pred, color='red')\n",
    "plt.show()"
   ]
  },
  {
   "cell_type": "code",
   "execution_count": null,
   "metadata": {},
   "outputs": [],
   "source": [
    "# get train loss\n",
    "train_loss = np.mean((y_train - y_pred)**2)\n",
    "print('Train Loss for LinearRegression model : %.4f' % train_loss)"
   ]
  },
  {
   "cell_type": "code",
   "execution_count": null,
   "metadata": {},
   "outputs": [],
   "source": [
    "# Visualize the trained linear regression model\n",
    "# scatter the original data\n",
    "plt.scatter(X_test, y_test)   \n",
    "\n",
    "# plot prediction results\n",
    "y_pred = ???\n",
    "\n",
    "plt.scatter(X_test, y_pred, color='red')\n",
    "plt.show()"
   ]
  },
  {
   "cell_type": "code",
   "execution_count": null,
   "metadata": {},
   "outputs": [],
   "source": [
    "test_loss = np.mean((y_test - y_pred)**2)\n",
    "print('Test Loss for LinearRegression model : %.4f' % test_loss)"
   ]
  },
  {
   "cell_type": "markdown",
   "metadata": {},
   "source": [
    "## [P.3] `sklearn` 라이브러리를 통해, 최적의 다항 회귀 모델 학습\n",
    "\n",
    "---\n",
    "\n",
    "- 다항 회귀 모델 학습에 필요한 `sklearn`의 클래스를 사용 (Hint: [PolynomialFeatures](https://scikit-learn.org/stable/modules/generated/sklearn.preprocessing.PolynomialFeatures.html), [pseudo_code](https://stats.stackexchange.com/questions/58739/polynomial-regression-using-scikit-learn))\n",
    "- 주어진 데이터에 대해 학습 및 평가 진행\n",
    "- P.2와 마찬가지로 학습 손실값과 평가 데이터에 대한 손실값을 계산"
   ]
  },
  {
   "cell_type": "code",
   "execution_count": null,
   "metadata": {},
   "outputs": [],
   "source": [
    "from sklearn.preprocessing import PolynomialFeatures\n",
    "from sklearn.linear_model import LinearRegression"
   ]
  },
  {
   "cell_type": "code",
   "execution_count": null,
   "metadata": {},
   "outputs": [],
   "source": [
    "def gd_sklearn(X, y, degree):\n",
    "    # preprocessing\n",
    "    ???\n",
    "    \n",
    "    return poly, reg"
   ]
  },
  {
   "cell_type": "code",
   "execution_count": null,
   "metadata": {},
   "outputs": [],
   "source": [
    "degree = ???\n",
    "\n",
    "poly, reg = gd_sklearn(X_train, y_train, degree)"
   ]
  },
  {
   "cell_type": "code",
   "execution_count": null,
   "metadata": {
    "scrolled": true
   },
   "outputs": [],
   "source": [
    "# Visualize the trained linear regression model\n",
    "# scatter the original data\n",
    "plt.scatter(X_train, y_train)   \n",
    "\n",
    "# plot prediction results\n",
    "y_pred = ???\n",
    "\n",
    "plt.scatter(X_train, y_pred, color='red')\n",
    "plt.show()"
   ]
  },
  {
   "cell_type": "code",
   "execution_count": null,
   "metadata": {},
   "outputs": [],
   "source": [
    "# get train loss\n",
    "train_loss = np.mean((y_train - y_pred)**2)\n",
    "print('Train Loss for LinearRegression model : %.4f' % train_loss)"
   ]
  },
  {
   "cell_type": "code",
   "execution_count": null,
   "metadata": {},
   "outputs": [],
   "source": [
    "# Visualize the trained linear regression model\n",
    "# scatter the original data\n",
    "plt.scatter(X_test, y_test)   \n",
    "\n",
    "# plot prediction results\n",
    "y_pred = ???\n",
    "\n",
    "plt.scatter(X_test, y_pred, color='red')\n",
    "plt.show()"
   ]
  },
  {
   "cell_type": "code",
   "execution_count": null,
   "metadata": {},
   "outputs": [],
   "source": [
    "# get test loss\n",
    "test_loss = np.mean((y_test - y_pred)**2)\n",
    "print('Test Loss for LinearRegression model : %.4f' % test_loss)"
   ]
  },
  {
   "cell_type": "markdown",
   "metadata": {},
   "source": [
    " "
   ]
  }
 ],
 "metadata": {
  "kernelspec": {
   "display_name": "Python 3",
   "language": "python",
   "name": "python3"
  },
  "language_info": {
   "codemirror_mode": {
    "name": "ipython",
    "version": 3
   },
   "file_extension": ".py",
   "mimetype": "text/x-python",
   "name": "python",
   "nbconvert_exporter": "python",
   "pygments_lexer": "ipython3",
   "version": "3.7.9"
  }
 },
 "nbformat": 4,
 "nbformat_minor": 4
}
